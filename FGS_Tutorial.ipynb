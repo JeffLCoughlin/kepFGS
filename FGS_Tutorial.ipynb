{
 "cells": [
  {
   "cell_type": "markdown",
   "metadata": {},
   "source": [
    "Fine Guidance Sensor Data\n",
    "===============\n",
    "\n",
    "The Kepler spacecraft uses Fine Guidance Sensors (FGS) to keep the pointing of the telescope fixed. There are 4 small sensors in the corner of the focal plane. The sensors use guide stars which are chosen based on being bright and with low variability. These stars are measured very rapidly using a short exposure (104ms) with a variable time sampling. Measurements are taken on average every 30 seconds, with some observations being taken on even shorter time frames. The full documentation on the FGS data can be found [here](https://archive.stsci.edu/kepler/manuals/fgs_doc_KSCI-19112.pdf)."
   ]
  },
  {
   "cell_type": "markdown",
   "metadata": {},
   "source": [
    "Insert picture of detector here\n",
    "\n",
    "FGS Module Structure\n",
    "--------------------\n",
    "There are 4 FGS Modules on the focal plane, one in each corner. There are numbered as 01, 05, 21 and 25 (from the top, left to right). For Kepler there were 10 guide stars per module, for K2 only one guide star is used per module."
   ]
  },
  {
   "cell_type": "markdown",
   "metadata": {},
   "source": [
    "FGS Data\n",
    "--------\n",
    "Data consist of *centroid* and *flux* data at each read out time. The pixel level data are saved only in rare cases as a Full Frame Image (FFI). Data is provided raw from simple aperture photometry. **????** These are given in simple *.csv* files.\n",
    "\n",
    "The FGS data from the original Kepler mission and from K2 are now available at MAST [here](https://archive.stsci.edu/missions/kepler/fgs/) and [here](https://archive.stsci.edu/missions/2/fgs/). There are **44** unique Kepler FGS targets and **51** unique K2 FGS targets. Both archives contain \n",
    "* FFI\n",
    "* FGS Light Curves\n",
    "* Ancilliary FGS Reference table\n",
    "\n",
    "The Ancilliary FGS Reference table can be used to find the positions of each target on each FGS module"
   ]
  },
  {
   "cell_type": "markdown",
   "metadata": {},
   "source": [
    "Tutorial\n",
    "--------\n",
    "In this tutorial we will download and plot the FGS data. The FGS.py file supplied with this tutorial can be used to do this."
   ]
  },
  {
   "cell_type": "code",
   "execution_count": 103,
   "metadata": {
    "collapsed": false
   },
   "outputs": [],
   "source": [
    "import FGS\n",
    "import matplotlib.pyplot as plt\n",
    "%matplotlib inline\n",
    "\n",
    "datadir='../data/FGSLC/'\n",
    "#Get the Kepler FGS data from MAST\n",
    "FGS.get_data(datadir,mission='kepler')\n",
    "\n",
    "#Get the K2 FGS data from MAST\n",
    "FGS.get_data(datadir,mission='k2')"
   ]
  },
  {
   "cell_type": "code",
   "execution_count": 116,
   "metadata": {
    "collapsed": false
   },
   "outputs": [],
   "source": [
    "#Create a lightcurve for Kepler ID 2564891 using just quarter 2.\n",
    "\n",
    "#Can get rid of mission keyword. Just need to build a table of both ancilliary and search automatically\n",
    "time,flux,column,row=FGS.gen_lc(datadir,ID=2564891,quarters=2,mission='kepler')"
   ]
  },
  {
   "cell_type": "code",
   "execution_count": 61,
   "metadata": {
    "collapsed": false
   },
   "outputs": [],
   "source": [
    "plt.scatter(time,flux)\n",
    "plt.xlabel('Time (days)')\n",
    "plt.ylabel('Normalised Flux')\n",
    "plt.title('Kepler 2564891')"
   ]
  }
 ],
 "metadata": {
  "kernelspec": {
   "display_name": "Python 2",
   "language": "python",
   "name": "python2"
  },
  "language_info": {
   "codemirror_mode": {
    "name": "ipython",
    "version": 2
   },
   "file_extension": ".py",
   "mimetype": "text/x-python",
   "name": "python",
   "nbconvert_exporter": "python",
   "pygments_lexer": "ipython2",
   "version": "2.7.11"
  }
 },
 "nbformat": 4,
 "nbformat_minor": 2
}
